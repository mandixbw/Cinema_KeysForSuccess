{
 "cells": [
  {
   "cell_type": "markdown",
   "metadata": {
    "colab": {},
    "colab_type": "code",
    "id": "ZWpD_-QkV4BB"
   },
   "source": [
    "# CINEMA. KEYS FOR SUCCESS"
   ]
  },
  {
   "cell_type": "markdown",
   "metadata": {},
   "source": [
    "![](MoviesImages/collage1.jpg)"
   ]
  },
  {
   "cell_type": "markdown",
   "metadata": {},
   "source": [
    "## 1. Introduction."
   ]
  },
  {
   "cell_type": "markdown",
   "metadata": {},
   "source": [
    "Cinema is known as the seventh art. But it is a big industry as well. According to EFE agency, cultural and creative industries represent 3% of worldwide PIB and employ 29.5 million people (source [EFE](https://www.efe.com/efe/espana/cultura/las-industrias-creativas-representan-el-3-por-ciento-del-pib-mundial-segun-la-unesco/10005-2780740)). So it is easy to understand there is a big interest in making cinema profitable and it is not difficult to find articles about what the keys for getting so are (https://phys.org/news/2017-11-explores-movie-successful.html). This is a topic that has already been analyzed with data science models, but of course there is always something else to say about it. This is what this study tries to do, going deep on cinema metrics to bring some light to this question: **what are the keys that determine revenue in a movie?** I will try to answer this question by creating a model to predict movies revenue."
   ]
  },
  {
   "cell_type": "markdown",
   "metadata": {},
   "source": [
    "The main source of information I have used in this study is **The Movie Database** ([TMDb](https://www.themoviedb.org/)). As written on their website:\n",
    "\n",
    "*The Movie Database (TMDb) is a community built movie and TV database. Every piece of data has been added by our amazing community dating back to 2008. TMDb's strong international focus and breadth of data is largely unmatched and something we're incredibly proud of. Put simply, we live and breathe community and that's precisely what makes us different.* ([source](https://www.themoviedb.org/about))\n",
    "\n",
    "The reasons for choosing TMDb have been:\n",
    "* Allowed access to download their entire database of movies, actors and crew, with more than 400,000 movies and 1,200,000 actors and crew in the whole industry.\n",
    "* Their very good support, with good documentation and help forums. This has been a big help on the process to download and understand the data.\n",
    "I would like to thank TMDb for doing this study possible!"
   ]
  },
  {
   "cell_type": "markdown",
   "metadata": {},
   "source": [
    "Additionally, I have used:\n",
    "\n",
    "* A dataset of 5,000 movies downloaded from **data.world** (access through this [link](https://data.world/popculture/imdb-5000-movie-dataset)), whose original source is **Internet Movie Database** ([IMDb](https://www.imdb.com/)).\n",
    "* **[The Numbers](https://www.the-numbers.com/)**, as help for double check revenue and budget data for specific movies.\n",
    "* https://www.usinflationcalculator.com/, to get US inflation information from 1913 to 2018."
   ]
  },
  {
   "cell_type": "markdown",
   "metadata": {},
   "source": [
    "With regards to the script, it is all original (of course, I got help on [stackoverflow](https://stackoverflow.com/) and many other forums). The only exception to this has been the script in python to download movies and cast/crew information using TMDb API, which I slighly adapted from the original of **galli-leo**. Thank you, galli-leo! (access through this [link](https://gist.github.com/galli-leo/6398f9128ffc20af70c6c7eedfeb0a65)). \n",
    "\n",
    "The whole script for this study consist of **eight jupyter notebooks in Python 3**, plus **this additional** including my final report and one **R file** with some extra models. Notebooks 01 and 02 have been run from a linux computer and are used to download the whole information of movies and cast/crew through TMDb API. Notebooks 03 to 08 have been run from **Google Colab** and some parts of the script assume this. I recommend to run these notebooks (03 to 08) from Google Colab, as part of the script, specific for Google Colab, gets the data I have used from my Google Drive account."
   ]
  },
  {
   "cell_type": "markdown",
   "metadata": {},
   "source": [
    "## 2. The data."
   ]
  },
  {
   "cell_type": "markdown",
   "metadata": {},
   "source": [
    "Data from TMDb have been downloaded using script on notebooks *01_Getting_Movies_Data* and *02_Getting_People_Data* through TMDb API (API [overview](https://www.themoviedb.org/documentation/api) and [documentation](https://developers.themoviedb.org/3/getting-started/introduction)). TMDb API is available for everyone to use; you only need a TMDb user account to request an API key. \n",
    "\n",
    "However, when using the API, we found some rate limiting. The limits are 40 requests every 10 seconds and are limited by IP address, not API key. So this is being burstable to 40 in a single second, or as an average of 4 requests/second. The timer resets 10 seconds from the first request within the current 10 second \"bucket\". This means that if the limit is triggered, then it is necessary to wait up to 9 seconds before the timer resets, but depending where we are within the 10 second window, it could be the very next second.\n",
    "\n",
    "The API returns a json file with the whole information for every movie id and people (cast or crew) id. So we have two different sets of json files:\n",
    "* One set made of 409,791 json files for movies (one json file = one movie).\n",
    "* One set made of 1,197,556 json files for cast/crew (one json file = one person)."
   ]
  },
  {
   "cell_type": "markdown",
   "metadata": {},
   "source": [
    "The API call can be personalized to define what information we want to get. At this initial point, I selected a wide range of fields to download, just because they could be used in the future to make this study evolve or even for other studies (why not a recommendation system?). We have to take into account that the whole process of downloading took about 2 weeks! \n",
    "\n",
    "After getting the json files, it is time to import them. In both datasets (movies and crew) I previously ran a script to check the structure of the files (in notebooks *03_Tidying_Movies_Data* for movies and *05_Tidying_People_Data* for people). This was useful to know the nested structure of dictionaries and decide which information I would finally import. At this point, memory limit was a key driver and I had to estimate if working in a cluster would be necessary. It was finally not."
   ]
  },
  {
   "cell_type": "markdown",
   "metadata": {},
   "source": [
    "These are the fields I finally imported for **movies**:\n",
    "\n",
    "* **id** for TMDb (*int*)\n",
    "* **titles**: list of alternative titles (*list of str*)\n",
    "* **belongs_to_collection_id** (*int*)\n",
    "* **belongs_to_collection_name** (*str*)\n",
    "* **budget** (*int*) in US dollars.\n",
    "* **credits cast**: list of cast with different additional features: **cast_id** (*int*), **character** (*str*), **gender** (*int*), **id** (*int*), **name** (*str*), **order** (*int*)\n",
    "* **credits crew**: list of crew with different additional features: **department** (*str*), **gender** (*int*), **id** (*int*), **job** (*str*), **name** (*str*)\n",
    "* **imdb_id** (*int*)\n",
    "* **genres**: list of id (*int*) - name (*str*) of generes associated to every movie\n",
    "* **keywords**: list of id (*int*) - name (*str*)\n",
    "* **original_language** (*str*)\n",
    "* **original_title** (*str*)\n",
    "* **overview** (*str*)\n",
    "* **popularity** (*float*): numeric value rating popularity coming from TMDb community\n",
    "* **production_companies**: list of companies and additional features: **id** (*int*), **name** (*str*), **origin_country** (*str*)\n",
    "* **production_countries**: list of **iso_3166_1** (*str*) and **name** (*str*) for production countries\n",
    "* **release_date** (*str*)\n",
    "* **release_dates**: list of dictionaries with information for every release: **iso_3166_1** (*str*), **certification** (*str*), **iso_639_1** (*str*), **release_date** (*str*), **type** (*int*) (numeric code for type of release)\n",
    "* **revenue** (*int*) in US dollars.\n",
    "* **reviews_page** (*int*)\n",
    "* **reviews_results**: list of additional features: **author** (*str*), **content** (*str*), **id** (*int*)\n",
    "* **reviews_total_pages** (*int*)\n",
    "* **reviews_total_results** (*int*)\n",
    "* **runtime** (*int*)\n",
    "* **spoken_languages**: list of **iso_639_1** (*str*) and **name** (*str*) for spoken languages in the movie\n",
    "* **status** (*str*) (released/production/planned...)\n",
    "* **tagline** (*str*)\n",
    "* **title** (*str*): title in English\n",
    "* **vote_average** (*float*) (from TMDb users)\n",
    "* **vote_count** (*int*)  (from TMDb users)"
   ]
  },
  {
   "cell_type": "markdown",
   "metadata": {},
   "source": [
    "These are the fields I finally imported for **people**:\n",
    "\n",
    "* **id** (*int*) for TMDb\n",
    "* **adult** (*bool*) coming/not coming form adult cinema\n",
    "* **birthday** (*str*)\n",
    "* **deathday** (*str*)\n",
    "* **gender** (*int*)\n",
    "* **imdb_id**  (*int*)\n",
    "* **known_for_department** (*str*)\n",
    "* **movie_credits_cast**: list of movies and additional features where the person worked as cast: **adult** (*bool*), **character** (*str*), **genre_ids** (*list of int*), **id** (*int*), **original_language** (*str*), **original_title** (*str*), **popularity** (*int*), **release_date** (*str*), **title** (*str*), **vote_average** (*float*), **vote_count** (*int*)\n",
    "* **movie_credits_crew**: list of movies and additional features where the person worked as crew: **adult** (*bool*), **department** (*str*), **genre_ids** (*list of int*), **id** (*int*), **job** (*str*), **original_language** (*str*), **original_title** (*str*), **popularity** (*int*), **release_date** (*str*), **title** (*str*), **vote_average** (*float*), **vote_count** (*int*)\n",
    "* **name** (*str*)\n",
    "* **place_of_birth** (*str*)\n",
    "* **popularity** (*int*): numeric value rating popularity coming from TMDb community\n",
    "* **tv_credits_cast**: list of tv movies and additional features where the person worked as cast: **character** (*str*), **episode_count** (*int*), **first_air_date** (*str*), **genre_ids** (*list of int*), **id** (*int*), **name** (*str*), **origin_country** (*str*), **original_language** (*str*), **original_name** (*str*), **popularity** (*int*), **vote_average** (*float*), **vote_count** (*int*)\n",
    "* **tv_credits_crew**: list of tv movies and additional features where the person worked as crew: **department** (*str*), **episode_count** (*int*), **first_air_date** (*str*), **genre_ids** (*list of int*), **id** (*int*), **job** (*str*), **name** (*str*), **origin_country** (*str*), **original_language** (*str*), **original_name** (*str*), **popularity** (*int*), **vote_average** (*float*), **vote_count** (*int*)"
   ]
  },
  {
   "cell_type": "markdown",
   "metadata": {},
   "source": [
    "Although this is the set of features I finally uploaded, not all of them participated in the model. And this is because I decided to exclude variables that in fact can be affected by the revenue itself, as their value is got some time after the release of the movie. **My goal is trying to analyze the variables that have an effect on the later revenue, but that can be controlled before the release**. For example: *popularity* will be for sure higher for movies with higher revenue. And *votes* are got after the release. But both features are not available when planning a movie. So those kind of features will be excluded. Similar case for *belongs to collection*: second and third parts are shot precisely because previous movies in the collection were a success! So we won´t consider that feature either."
   ]
  },
  {
   "cell_type": "markdown",
   "metadata": {},
   "source": [
    "It would have been interesting to use tv information in our model. So we could have included the effect of actors or crew working on tv and then on cinema. But I got a problem here: one key feature in our analysis will be realease date. We will create features for our movies holding information of their cast and crew, **about their work up to that movie**. So it is critical to know the dates of their works. We don´t have that information for tv. We have the episode number our cast or crew worked on and we have the first air date of the tv series or tv movie, but we don´t know the real date of the episodes. So this information could be missleading."
   ]
  },
  {
   "cell_type": "markdown",
   "metadata": {},
   "source": [
    "But the **key issue I had with the data was about revenue**: after getting our 409,791 json files for movies I discovered that less than 3% had revenue informed. This is one of the reasons why I got the 5,000 movies dataset from data.world (originally from IMDb): increasing the number of films with revenue informed. This new dataset held IMDb id. And we had it in our TMDb dataset as well. So merging was possible. \n",
    "\n",
    "And the second reason for doing so was quality control: the information in TMDb is maintained by a big community. There are rules to do so, as showed in [TMDb bible](https://www.themoviedb.org/bible/movie#59f73b759251416e71000007). But there are many oportunities for errors. And some errors can produce outliers. And outliers are a problem. An easy error will be adding revenue (or budget) information in million instead of units. Or adding revenue (or budget) information in different currencies. The rule about it is *including revenue and budget information in dollars in the time when the movie was released*. But this is not always the case. Having another source of information was useful to apply some quality control and clean up some outliers."
   ]
  },
  {
   "cell_type": "code",
   "execution_count": null,
   "metadata": {},
   "outputs": [],
   "source": []
  }
 ],
 "metadata": {
  "colab": {
   "collapsed_sections": [],
   "name": "Cinema_KeysForSuccess.ipynb",
   "provenance": [],
   "version": "0.3.2"
  },
  "kernelspec": {
   "display_name": "Python 3",
   "language": "python",
   "name": "python3"
  },
  "language_info": {
   "codemirror_mode": {
    "name": "ipython",
    "version": 3
   },
   "file_extension": ".py",
   "mimetype": "text/x-python",
   "name": "python",
   "nbconvert_exporter": "python",
   "pygments_lexer": "ipython3",
   "version": "3.6.5"
  }
 },
 "nbformat": 4,
 "nbformat_minor": 1
}
